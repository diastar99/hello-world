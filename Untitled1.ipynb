{
  "nbformat": 4,
  "nbformat_minor": 0,
  "metadata": {
    "colab": {
      "provenance": [],
      "authorship_tag": "ABX9TyO1WSW06wG0NRNZFuLATX5n",
      "include_colab_link": true
    },
    "kernelspec": {
      "name": "python3",
      "display_name": "Python 3"
    },
    "language_info": {
      "name": "python"
    }
  },
  "cells": [
    {
      "cell_type": "markdown",
      "metadata": {
        "id": "view-in-github",
        "colab_type": "text"
      },
      "source": [
        "<a href=\"https://colab.research.google.com/github/diastar99/hello-world/blob/master/Untitled1.ipynb\" target=\"_parent\"><img src=\"https://colab.research.google.com/assets/colab-badge.svg\" alt=\"Open In Colab\"/></a>"
      ]
    },
    {
      "cell_type": "code",
      "execution_count": null,
      "metadata": {
        "colab": {
          "base_uri": "https://localhost:8080/"
        },
        "id": "lO9wxGPf6Cjp",
        "outputId": "fdd6df5b-b2dd-4f57-8a0c-96dce4ff0178"
      },
      "outputs": [
        {
          "output_type": "stream",
          "name": "stdout",
          "text": [
            "Impact location: 0.5077862532345645\n"
          ]
        }
      ],
      "source": [
        "import numpy as np\n",
        "\n",
        "# Constants\n",
        "NUM_SENSORS = 4\n",
        "DELTA_T = 0.01 # Time between measurements (in seconds)\n",
        "\n",
        "# Generate sample impact data for each sensor\n",
        "def generate_impact_data(impact_time):\n",
        "    impact_data = []\n",
        "    for i in range(NUM_SENSORS):\n",
        "        impact_data.append(np.sin(2 * np.pi * (impact_time - i * DELTA_T)))\n",
        "    return impact_data\n",
        "\n",
        "# Calculate the impact location based on the data from each sensor\n",
        "def calculate_impact_location(impact_data):\n",
        "    impact_location = 0\n",
        "    for i in range(NUM_SENSORS):\n",
        "        impact_location += impact_data[i]\n",
        "    impact_location /= NUM_SENSORS\n",
        "    return impact_location\n",
        "\n",
        "# Main program\n",
        "impact_time = 0.1 # Impact time (in seconds)\n",
        "impact_data = generate_impact_data(impact_time)\n",
        "impact_location = calculate_impact_location(impact_data)\n",
        "\n",
        "print(\"Impact location:\", impact_location)\n"
      ]
    },
    {
      "cell_type": "code",
      "source": [
        "import numpy as np\n",
        "import matplotlib.pyplot as plt\n",
        "\n",
        "# Constants\n",
        "NUM_SENSORS = 4\n",
        "DELTA_T = 0.01 # Time between measurements (in seconds)\n",
        "TARGET_WIDTH = 2\n",
        "TARGET_HEIGHT = 2.67\n",
        "\n",
        "# Generate sample impact data for each sensor\n",
        "def generate_impact_data(impact_time):\n",
        "    impact_data = []\n",
        "    for i in range(NUM_SENSORS):\n",
        "        impact_data.append(np.sin(2 * np.pi * (impact_time - i * DELTA_T)))\n",
        "    return impact_data\n",
        "\n",
        "# Calculate the impact location based on the data from each sensor\n",
        "def calculate_impact_location(impact_data):\n",
        "    impact_location = 0\n",
        "    for i in range(NUM_SENSORS):\n",
        "        impact_location += impact_data[i]\n",
        "    impact_location /= NUM_SENSORS\n",
        "    return impact_location\n",
        "\n",
        "# Plot the target and impact sensors\n",
        "def plot_target_and_sensors(impact_location):\n",
        "    fig, ax = plt.subplots()\n",
        "    ax.set_xlim(0, TARGET_WIDTH)\n",
        "    ax.set_ylim(0, TARGET_HEIGHT)\n",
        "    ax.set_aspect('equal')\n",
        "    ax.add_patch(plt.Rectangle((0, 0), TARGET_WIDTH, TARGET_HEIGHT, fill=False))\n",
        "    for i in range(NUM_SENSORS):\n",
        "        ax.scatter(0.2 + i * 0.4, 0.2, color='red')\n",
        "    ax.scatter(impact_location, 0.6, color='blue')\n",
        "    plt.show()\n",
        "\n",
        "# Main program\n",
        "impact_time = 0.1 # Impact time (in seconds)\n",
        "impact_data = generate_impact_data(impact_time)\n",
        "impact_location = calculate_impact_location(impact_data)\n",
        "plot_target_and_sensors(impact_location)\n",
        "\n"
      ],
      "metadata": {
        "colab": {
          "base_uri": "https://localhost:8080/",
          "height": 513
        },
        "id": "jEJY5E1R8h_9",
        "outputId": "f0e7a33f-beed-40eb-f4ee-a36e9c70eb80"
      },
      "execution_count": null,
      "outputs": [
        {
          "output_type": "display_data",
          "data": {
            "text/plain": [
              "<Figure size 432x288 with 1 Axes>"
            ],
            "image/png": "[encoded data removed]"
          },
          "metadata": {
            "needs_background": "light"
          }
        },
        {
          "output_type": "display_data",
          "data": {
            "text/plain": [
              "<Figure size 432x288 with 1 Axes>"
            ],
            "image/png": "[encoded data removed]"
          },
          "metadata": {
            "needs_background": "light"
          }
        }
      ]
    },
    {
      "cell_type": "code",
      "source": [
        "import numpy as np\n",
        "import matplotlib.pyplot as plt\n",
        "import random\n",
        "\n",
        "# Constants\n",
        "NUM_SENSORS = 5\n",
        "TARGET_WIDTH = 2\n",
        "TARGET_HEIGHT = 2.67\n",
        "\n",
        "# Generate random sensor locations\n",
        "def generate_sensor_locations():\n",
        "    sensor_locations = []\n",
        "    for i in range(NUM_SENSORS):\n",
        "        sensor_locations.append([random.uniform(0, TARGET_WIDTH), random.uniform(0, TARGET_HEIGHT)])\n",
        "    return sensor_locations\n",
        "\n",
        "# Generate random impact point\n",
        "def generate_impact_point():\n",
        "    return [random.uniform(0, TARGET_WIDTH), random.uniform(0, TARGET_HEIGHT)]\n",
        "\n",
        "# Plot the target and sensors\n",
        "def plot_target_and_sensors(sensor_locations, impact_point):\n",
        "    fig, ax = plt.subplots()\n",
        "    ax.set_xlim(0, TARGET_WIDTH)\n",
        "    ax.set_ylim(0, TARGET_HEIGHT)\n",
        "    ax.set_aspect('equal')\n",
        "    ax.add_patch(plt.Rectangle((0, 0), TARGET_WIDTH, TARGET_HEIGHT, fill=False))\n",
        "    for sensor_location in sensor_locations:\n",
        "        ax.scatter(sensor_location[0], sensor_location[1], color='red')\n",
        "    ax.scatter(impact_point[0], impact_point[1], color='blue')\n",
        "    plt.show()\n",
        "\n",
        "# Main program\n",
        "sensor_locations = generate_sensor_locations()\n",
        "impact_point = generate_impact_point()\n",
        "plot_target_and_sensors(sensor_locations, impact_point)\n"
      ],
      "metadata": {
        "colab": {
          "base_uri": "https://localhost:8080/",
          "height": 265
        },
        "id": "ShfFq1Hp-DZ0",
        "outputId": "38dfee5b-2bdc-46c0-af9a-8b99944dc8f4"
      },
      "execution_count": null,
      "outputs": [
        {
          "output_type": "display_data",
          "data": {
            "text/plain": [
              "<Figure size 432x288 with 1 Axes>"
            ],
            "image/png": "[encoded data removed]"
          },
          "metadata": {
            "needs_background": "light"
          }
        }
      ]
    },
    {
      "cell_type": "code",
      "source": [
        "import numpy as np\n",
        "import matplotlib.pyplot as plt\n",
        "import random\n",
        "\n",
        "# Constants\n",
        "NUM_IMPACT_POINTS = 5\n",
        "TARGET_WIDTH = 2\n",
        "TARGET_HEIGHT = 2.67\n",
        "\n",
        "# Fixed sensor locations\n",
        "sensor_locations = [[0.2, 0.2], [0.8, 0.2], [0.2, 0.8], [0.8, 0.8], [0.5, 0.5]]\n",
        "\n",
        "# Generate random impact points\n",
        "def generate_impact_points():\n",
        "    impact_points = []\n",
        "    for i in range(NUM_IMPACT_POINTS):\n",
        "        impact_points.append([random.uniform(0, TARGET_WIDTH), random.uniform(0, TARGET_HEIGHT)])\n",
        "    return impact_points\n",
        "\n",
        "# Plot the target and sensors\n",
        "def plot_target_and_impact_points(impact_points):\n",
        "    fig, ax = plt.subplots()\n",
        "    ax.set_xlim(0, TARGET_WIDTH)\n",
        "    ax.set_ylim(0, TARGET_HEIGHT)\n",
        "    ax.set_aspect('equal')\n",
        "    ax.add_patch(plt.Rectangle((0, 0), TARGET_WIDTH, TARGET_HEIGHT, fill=False))\n",
        "    for sensor_location in sensor_locations:\n",
        "        ax.scatter(sensor_location[0], sensor_location[1], color='red')\n",
        "    for impact_point in impact_points:\n",
        "        ax.scatter(impact_point[0], impact_point[1], color='blue')\n",
        "    plt.show()\n",
        "\n",
        "# Main program\n",
        "impact_points = generate_impact_points()\n",
        "plot_target_and_impact_points(impact_points)\n"
      ],
      "metadata": {
        "colab": {
          "base_uri": "https://localhost:8080/",
          "height": 265
        },
        "id": "7RERMpYC-w0T",
        "outputId": "c5130a6f-374a-40aa-e4a9-ac2d991714d5"
      },
      "execution_count": null,
      "outputs": [
        {
          "output_type": "display_data",
          "data": {
            "text/plain": [
              "<Figure size 432x288 with 1 Axes>"
            ],
            "image/png": "[encoded data removed]"
          },
          "metadata": {
            "needs_background": "light"
          }
        }
      ]
    },
    {
      "cell_type": "code",
      "source": [
        "import numpy as np\n",
        "import matplotlib.pyplot as plt\n",
        "import random\n",
        "\n",
        "# Constants\n",
        "NUM_IMPACT_POINTS = 5\n",
        "TARGET_WIDTH = 2\n",
        "TARGET_HEIGHT = 2.67\n",
        "\n",
        "# Fixed sensor locations at the four vertices of the target\n",
        "sensor_locations = [[0, 0], [TARGET_WIDTH, 0], [0, TARGET_HEIGHT], [TARGET_WIDTH, TARGET_HEIGHT]]\n",
        "\n",
        "# Generate random impact points\n",
        "def generate_impact_points():\n",
        "    impact_points = []\n",
        "    for i in range(NUM_IMPACT_POINTS):\n",
        "        impact_points.append([random.uniform(0, TARGET_WIDTH), random.uniform(0, TARGET_HEIGHT)])\n",
        "    return impact_points\n",
        "\n",
        "# Plot the target and sensors\n",
        "def plot_target_and_impact_points(impact_points):\n",
        "    fig, ax = plt.subplots()\n",
        "    ax.set_xlim(0, TARGET_WIDTH)\n",
        "    ax.set_ylim(0, TARGET_HEIGHT)\n",
        "    ax.set_aspect('equal')\n",
        "    ax.add_patch(plt.Rectangle((0, 0), TARGET_WIDTH, TARGET_HEIGHT, fill=False))\n",
        "    for sensor_location in sensor_locations:\n",
        "        ax.scatter(sensor_location[0], sensor_location[1], color='red')\n",
        "    for impact_point in impact_points:\n",
        "        ax.scatter(impact_point[0], impact_point[1], color='blue')\n",
        "    plt.show()\n",
        "\n",
        "# Main program\n",
        "impact_points = generate_impact_points()\n",
        "plot_target_and_impact_points(impact_points)\n",
        "\n"
      ],
      "metadata": {
        "colab": {
          "base_uri": "https://localhost:8080/",
          "height": 265
        },
        "id": "8mxIyWUv_laG",
        "outputId": "c97de7b1-3a41-4bcd-85eb-6b5c72d56b0a"
      },
      "execution_count": null,
      "outputs": [
        {
          "output_type": "display_data",
          "data": {
            "text/plain": [
              "<Figure size 432x288 with 1 Axes>"
            ],
            "image/png": "[encoded data removed]"
          },
          "metadata": {
            "needs_background": "light"
          }
        }
      ]
    },
    {
      "cell_type": "code",
      "source": [
        "import numpy as np\n",
        "import matplotlib.pyplot as plt\n",
        "import random\n",
        "\n",
        "# Constants\n",
        "NUM_IMPACT_POINTS = 1 \n",
        "TARGET_WIDTH = 2\n",
        "TARGET_HEIGHT = 2.67\n",
        "\n",
        "# Fixed sensor locations at the four vertices of the target\n",
        "sensor_locations = [[0, 0], [TARGET_WIDTH, 0], [0, TARGET_HEIGHT], [TARGET_WIDTH, TARGET_HEIGHT]]\n",
        "\n",
        "# Generate random impact points\n",
        "def generate_impact_points():\n",
        "    impact_points = []\n",
        "    for i in range(NUM_IMPACT_POINTS):\n",
        "        impact_points.append([random.uniform(0, TARGET_WIDTH), random.uniform(0, TARGET_HEIGHT)])\n",
        "    return impact_points\n",
        "\n",
        "# Plot the target and sensors\n",
        "def plot_target_and_impact_points(impact_points):\n",
        "    fig, ax = plt.subplots()\n",
        "    ax.set_xlim(0, TARGET_WIDTH)\n",
        "    ax.set_ylim(0, TARGET_HEIGHT)\n",
        "    ax.set_aspect('equal')\n",
        "    ax.add_patch(plt.Rectangle((0, 0), TARGET_WIDTH, TARGET_HEIGHT, fill=False))\n",
        "    for sensor_location in sensor_locations:\n",
        "        ax.scatter(sensor_location[0], sensor_location[1], color='red')\n",
        "    for impact_point in impact_points:\n",
        "        ax.scatter(impact_point[0], impact_point[1], color='blue')\n",
        "    for impact_point in impact_points:\n",
        "        for i, sensor_location in enumerate(sensor_locations):\n",
        "            ax.annotate(f\"Sensor {i+1}: {np.linalg.norm(np.array(impact_point)-np.array(sensor_location))}\", (impact_point[0]+0.1, impact_point[1]+0.1))\n",
        "    plt.show()\n",
        "\n",
        "# Main program\n",
        "impact_points = generate_impact_points()\n",
        "plot_target_and_impact_points(impact_points)\n"
      ],
      "metadata": {
        "colab": {
          "base_uri": "https://localhost:8080/",
          "height": 265
        },
        "id": "uMTPJeFfAayx",
        "outputId": "9863a0db-aa2b-4be4-a55c-300316f1e151"
      },
      "execution_count": null,
      "outputs": [
        {
          "output_type": "display_data",
          "data": {
            "text/plain": [
              "<Figure size 432x288 with 1 Axes>"
            ],
            "image/png": "[encoded data removed]"
          },
          "metadata": {
            "needs_background": "light"
          }
        }
      ]
    },
    {
      "cell_type": "code",
      "source": [
        "import random\n",
        "import math\n",
        "\n",
        "# Fix the location of the sensors at the vertices of the target\n",
        "sensor1 = (0, 0)\n",
        "sensor2 = (0, 2.67)\n",
        "sensor3 = (2, 0)\n",
        "sensor4 = (2, 2.67)\n",
        "sensors = [sensor1, sensor2, sensor3, sensor4]\n",
        "\n",
        "# Generate a random impact point within the target area\n",
        "impact_x = random.uniform(0, 2)\n",
        "impact_y = random.uniform(0, 2.67)\n",
        "impact_point = (impact_x, impact_y)\n",
        "\n",
        "# Calculate the Euclidean distance between each sensor and the impact point\n",
        "distances = []\n",
        "for sensor in sensors:\n",
        "    d = math.sqrt((impact_x - sensor[0])**2 + (impact_y - sensor[1])**2)\n",
        "    distances.append(d)\n",
        "\n",
        "# Display the distance measured by each sensor\n",
        "for i, distance in enumerate(distances):\n",
        "    print(\"Sensor {} measured a distance of {} meters.\".format(i + 1, distance))\n"
      ],
      "metadata": {
        "colab": {
          "base_uri": "https://localhost:8080/"
        },
        "id": "uwzKyCGzDVXu",
        "outputId": "2bbd053a-b92a-4d4e-b200-783401c99f94"
      },
      "execution_count": null,
      "outputs": [
        {
          "output_type": "stream",
          "name": "stdout",
          "text": [
            "Sensor 1 measured a distance of 2.720369070291541 meters.\n",
            "Sensor 2 measured a distance of 0.7390375082243706 meters.\n",
            "Sensor 3 measured a distance of 2.907133692216597 meters.\n",
            "Sensor 4 measured a distance of 1.2638017504278618 meters.\n"
          ]
        }
      ]
    },
    {
      "cell_type": "code",
      "source": [
        "import random\n",
        "import math\n",
        "import matplotlib.pyplot as plt\n",
        "\n",
        "# Fix the location of the sensors at the vertices of the target\n",
        "sensor1 = (0, 0)\n",
        "sensor2 = (0, 2.67)\n",
        "sensor3 = (2, 0)\n",
        "sensor4 = (2, 2.67)\n",
        "sensors = [sensor1, sensor2, sensor3, sensor4]\n",
        "\n",
        "# Generate a random impact point within the target area\n",
        "impact_x = random.uniform(0, 2)\n",
        "impact_y = random.uniform(0, 2.67)\n",
        "impact_point = (impact_x, impact_y)\n",
        "\n",
        "# Calculate the Euclidean distance between each sensor and the impact point\n",
        "distances = []\n",
        "for sensor in sensors:\n",
        "    d = math.sqrt((impact_x - sensor[0])**2 + (impact_y - sensor[1])**2)\n",
        "    distances.append(d)\n",
        "\n",
        "# Display the distance measured by each sensor\n",
        "for i, distance in enumerate(distances):\n",
        "    print(\"Sensor {} measured a distance of {} meters.\".format(i + 1, distance))\n",
        "\n",
        "# Visualize the target, sensors, and impact point\n",
        "plt.plot([0, 2, 2, 0, 0], [0, 0, 2.67, 2.67, 0], 'k-')\n",
        "plt.plot([impact_x], [impact_y], 'ro')\n",
        "for sensor in sensors:\n",
        "    plt.plot(sensor[0], sensor[1], 'bo')\n",
        "plt.axis([-0.5, 2.5, -0.5, 3])\n",
        "plt.show()\n"
      ],
      "metadata": {
        "colab": {
          "base_uri": "https://localhost:8080/",
          "height": 342
        },
        "id": "cxHCACg1Dw1J",
        "outputId": "130414bd-9826-477a-fede-f4a100952eec"
      },
      "execution_count": null,
      "outputs": [
        {
          "output_type": "stream",
          "name": "stdout",
          "text": [
            "Sensor 1 measured a distance of 0.6612524637090913 meters.\n",
            "Sensor 2 measured a distance of 2.429249021022738 meters.\n",
            "Sensor 3 measured a distance of 1.4507614468508974 meters.\n",
            "Sensor 4 measured a distance of 2.7511279070678447 meters.\n"
          ]
        },
        {
          "output_type": "display_data",
          "data": {
            "text/plain": [
              "<Figure size 432x288 with 1 Axes>"
            ],
            "image/png": "[encoded data removed]"
          },
          "metadata": {
            "needs_background": "light"
          }
        }
      ]
    },
    {
      "cell_type": "code",
      "source": [
        "import random\n",
        "import math\n",
        "import matplotlib.pyplot as plt\n",
        "import urllib\n",
        "from PIL import Image\n",
        "\n",
        "# Load the background image\n",
        "URL = \"https://search.pstatic.net/common/?src=http%3A%2F%2Fcafefiles.naver.net%2F20130523_217%2Fgusnd0213_1369273243812iXr4m_JPEG%2F-650579198.jpg&type=a340\"\n",
        "with urllib.request.urlopen(URL) as url:\n",
        "    image = Image.open(url)\n",
        "\n",
        "# Fix the location of the sensors at the vertices of the target\n",
        "sensor1 = (0, 0)\n",
        "sensor2 = (0, 2.67)\n",
        "sensor3 = (2, 0)\n",
        "sensor4 = (2, 2.67)\n",
        "sensors = [sensor1, sensor2, sensor3, sensor4]\n",
        "\n",
        "# Generate a random impact point within the target area\n",
        "impact_x = random.uniform(0, 2)\n",
        "impact_y = random.uniform(0, 2.67)\n",
        "impact_point = (impact_x, impact_y)\n",
        "\n",
        "# Calculate the Euclidean distance between each sensor and the impact point\n",
        "distances = []\n",
        "for sensor in sensors:\n",
        "    d = math.sqrt((impact_x - sensor[0])**2 + (impact_y - sensor[1])**2)\n",
        "    distances.append(d)\n",
        "\n",
        "# Display the distance measured by each sensor\n",
        "for i, distance in enumerate(distances):\n",
        "    print(\"Sensor {} measured a distance of {} meters.\".format(i + 1, distance))\n",
        "\n",
        "# Visualize the target, sensors, and impact point\n",
        "fig, ax = plt.subplots()\n",
        "ax.imshow(image, extent=[0, 2, 0, 2.67])\n",
        "plt.plot([0, 2, 2, 0, 0], [0, 0, 2.67, 2.67, 0], 'k-', alpha=0.5)\n",
        "plt.plot([impact_x], [impact_y], 'ro')\n",
        "for sensor in sensors:\n",
        "    plt.plot(sensor[0], sensor[1], 'bo')\n",
        "plt.axis('off')\n",
        "plt.show()\n"
      ],
      "metadata": {
        "colab": {
          "base_uri": "https://localhost:8080/",
          "height": 321
        },
        "id": "LmdW0N1iEjiS",
        "outputId": "32f8b540-c4c8-454e-c632-7d1cc15c798a"
      },
      "execution_count": null,
      "outputs": [
        {
          "output_type": "stream",
          "name": "stdout",
          "text": [
            "Sensor 1 measured a distance of 2.6581930773802123 meters.\n",
            "Sensor 2 measured a distance of 1.4815843505107111 meters.\n",
            "Sensor 3 measured a distance of 2.3208062023622817 meters.\n",
            "Sensor 4 measured a distance of 0.7178044162370414 meters.\n"
          ]
        },
        {
          "output_type": "display_data",
          "data": {
            "text/plain": [
              "<Figure size 432x288 with 1 Axes>"
            ],
            "image/png": "[encoded data removed]"
          },
          "metadata": {
            "needs_background": "light"
          }
        }
      ]
    },
    {
      "cell_type": "code",
      "source": [
        "import matplotlib.pyplot as plt\n",
        "import numpy as np\n",
        "import random\n",
        "\n",
        "def euclidean_distance(x1, y1, x2, y2):\n",
        "    return np.sqrt((x2 - x1)**2 + (y2 - y1)**2)\n",
        "\n",
        "# Set the background image\n",
        "URL = \"https://search.pstatic.net/common/?src=http%3A%2F%2Fcafefiles.naver.net%2F20130523_217%2Fgusnd0213_1369273243812iXr4m_JPEG%2F-650579198.jpg&type=a340\"\n",
        "with urllib.request.urlopen(URL) as url:\n",
        "    image = Image.open(url)\n",
        "\n",
        "# Fix the location of the sensor to the 4 vertices of the target\n",
        "sensor_x = [0, 2, 2, 0]\n",
        "sensor_y = [0, 0, 2.67, 2.67]\n",
        "\n",
        "# Generate a random impact point\n",
        "impact_x = random.uniform(0, 2)\n",
        "impact_y = random.uniform(0, 2.67)\n",
        "\n",
        "# Plot the sensors and impact point\n",
        "plt.scatter(sensor_x, sensor_y, color='red')\n",
        "plt.scatter(impact_x, impact_y, color='blue')\n",
        "\n",
        "# Calculate the distance from each sensor to the impact point\n",
        "distance = [euclidean_distance(impact_x, impact_y, x, y) for x, y in zip(sensor_x, sensor_y)]\n",
        "\n",
        "# Plot circles with radius equal to the distance from each sensor to the impact point\n",
        "for x, y, d in zip(sensor_x, sensor_y, distance):\n",
        "    circle = plt.Circle((x, y), d, color='green', fill=False)\n",
        "    plt.gca().add_artist(circle)\n",
        "\n",
        "plt.imshow(image, extent=[0, 2, 0, 2.67], zorder=-1)\n",
        "plt.xlim(0, 2)\n",
        "plt.ylim(0, 2.67)\n",
        "plt.show()\n"
      ],
      "metadata": {
        "colab": {
          "base_uri": "https://localhost:8080/",
          "height": 265
        },
        "id": "27zN8PtSGH1D",
        "outputId": "23abf013-c506-4442-da1e-9721d811a3bb"
      },
      "execution_count": null,
      "outputs": [
        {
          "output_type": "display_data",
          "data": {
            "text/plain": [
              "<Figure size 432x288 with 1 Axes>"
            ],
            "image/png": "[encoded data removed]"
          },
          "metadata": {
            "needs_background": "light"
          }
        }
      ]
    },
    {
      "cell_type": "code",
      "source": [
        "import matplotlib.pyplot as plt\n",
        "import numpy as np\n",
        "from matplotlib.patches import Circle\n",
        "\n",
        "# Define the target dimensions\n",
        "target_width = 2\n",
        "target_height = 2.67\n",
        "\n",
        "# Define the sensor locations at the 4 vertices of the target\n",
        "sensors = np.array([[0, 0], [target_width, 0], [0, target_height], [target_width, target_height]])\n",
        "\n",
        "# Define the impact point\n",
        "impact_x = np.random.uniform(0, target_width)\n",
        "impact_y = np.random.uniform(0, target_height)\n",
        "impact = np.array([impact_x, impact_y])\n",
        "\n",
        "# Calculate the distances from each sensor to the impact point\n",
        "distances = np.sqrt(np.sum((sensors - impact) ** 2, axis=1))\n",
        "\n",
        "# Plot the target background image\n",
        "URL = \"https://search.pstatic.net/common/?src=http%3A%2F%2Fcafefiles.naver.net%2F20130523_217%2Fgusnd0213_1369273243812iXr4m_JPEG%2F-650579198.jpg&type=a340\"\n",
        "with urllib.request.urlopen(URL) as url:\n",
        "    img = Image.open(url)\n",
        "\n",
        "plt.imshow(img)\n",
        "\n",
        "# Plot the sensors and the impact point\n",
        "plt.scatter(sensors[:, 0], sensors[:, 1], color='red', label='Sensor')\n",
        "plt.scatter(impact[0], impact[1], color='yellow', label='Impact')\n",
        "\n",
        "# Plot the circles around the sensors with radius equal to the distance to the impact point\n",
        "for i, distance in enumerate(distances):\n",
        "    circle = Circle(sensors[i], distance, fill=False, label=f'Distance {i + 1}: {distance:.2f}')\n",
        "    plt.gca().add_patch(circle)\n",
        "\n",
        "# Add a legend and axis labels\n",
        "plt.legend()\n",
        "plt.xlabel('Width (m)')\n",
        "plt.ylabel('Height (m)')\n",
        "\n",
        "# Show the plot\n",
        "plt.show()\n"
      ],
      "metadata": {
        "colab": {
          "base_uri": "https://localhost:8080/",
          "height": 279
        },
        "id": "yeJHdWmWKh-r",
        "outputId": "5a665856-a807-4612-ae4e-364293f31d79"
      },
      "execution_count": null,
      "outputs": [
        {
          "output_type": "display_data",
          "data": {
            "text/plain": [
              "<Figure size 432x288 with 1 Axes>"
            ],
            "image/png": "[encoded data removed]"
          },
          "metadata": {
            "needs_background": "light"
          }
        }
      ]
    }
  ]
}